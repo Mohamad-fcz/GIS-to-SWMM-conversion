{
 "cells": [
  {
   "metadata": {
    "ExecuteTime": {
     "end_time": "2025-09-14T20:04:36.626387Z",
     "start_time": "2025-09-14T20:04:34.189107Z"
    }
   },
   "cell_type": "code",
   "source": [
    "from pathlib import Path\n",
    "from SDART import SDART, SDARTConfig\n",
    "\n",
    "SOURCE_SHAPEFILES = Path(\"./SDART_TEST/data/Source_Shapefiles\")\n",
    "UPDATED_SHAPEFILES = Path(\"./SDART_TEST/SDART_TEST.gdb\")\n",
    "SCRATCH_GDB = Path(\"./SDART_TEST/data/SDART_Scratch.gdb\")\n",
    "\n",
    "cfg = SDARTConfig(\n",
    "    source_shapefiles=SOURCE_SHAPEFILES,\n",
    "    updated_shapefiles=UPDATED_SHAPEFILES,\n",
    "    scratch_gdb=SCRATCH_GDB,\n",
    ")\n",
    "\n",
    "s = SDART(cfg)\n"
   ],
   "id": "e070a0e3587d3e9c",
   "outputs": [],
   "execution_count": 1
  },
  {
   "metadata": {
    "ExecuteTime": {
     "end_time": "2025-09-14T20:04:37.758215Z",
     "start_time": "2025-09-14T20:04:37.504332Z"
    }
   },
   "cell_type": "code",
   "source": [
    "# After creating `s = SDART(cfg)`\n",
    "inv = s.inventory_table()\n",
    "inv  # display"
   ],
   "id": "b58ad087a694e038",
   "outputs": [
    {
     "data": {
      "text/plain": [
       "       Layer Key    Updated Expected FC Updated Status  \\\n",
       "0      junctions      Updated_junctions          Found   \n",
       "1       storages       Updated_storages        Missing   \n",
       "2       dividers       Updated_dividers          Found   \n",
       "3       outfalls       Updated_outfalls          Found   \n",
       "4       conduits       Updated_conduits          Found   \n",
       "5       orifices       Updated_orifices          Found   \n",
       "6        outlets        Updated_outlets          Found   \n",
       "7          pumps          Updated_pumps          Found   \n",
       "8          weirs          Updated_weirs          Found   \n",
       "9  subcatchments  Updated_subcatchments        Missing   \n",
       "\n",
       "  Source Expected Shapefile Source Status  \\\n",
       "0      Source_junctions.shp         Found   \n",
       "1       Source_storages.shp         Found   \n",
       "2       Source_dividers.shp         Found   \n",
       "3       Source_outfalls.shp         Found   \n",
       "4       Source_conduits.shp         Found   \n",
       "5       Source_orifices.shp         Found   \n",
       "6        Source_outlets.shp         Found   \n",
       "7          Source_pumps.shp         Found   \n",
       "8          Source_weirs.shp         Found   \n",
       "9  Source_subcatchments.shp         Found   \n",
       "\n",
       "                         Resolved Updated Path  \\\n",
       "0  SDART_TEST/SDART_TEST.gdb/Updated_junctions   \n",
       "1                                                \n",
       "2   SDART_TEST/SDART_TEST.gdb/Updated_dividers   \n",
       "3   SDART_TEST/SDART_TEST.gdb/Updated_outfalls   \n",
       "4   SDART_TEST/SDART_TEST.gdb/Updated_conduits   \n",
       "5   SDART_TEST/SDART_TEST.gdb/Updated_orifices   \n",
       "6    SDART_TEST/SDART_TEST.gdb/Updated_outlets   \n",
       "7      SDART_TEST/SDART_TEST.gdb/Updated_pumps   \n",
       "8      SDART_TEST/SDART_TEST.gdb/Updated_weirs   \n",
       "9                                                \n",
       "\n",
       "                                Resolved Source Path  \n",
       "0  SDART_TEST/data/Source_Shapefiles/Source_junct...  \n",
       "1  SDART_TEST/data/Source_Shapefiles/Source_stora...  \n",
       "2  SDART_TEST/data/Source_Shapefiles/Source_divid...  \n",
       "3  SDART_TEST/data/Source_Shapefiles/Source_outfa...  \n",
       "4  SDART_TEST/data/Source_Shapefiles/Source_condu...  \n",
       "5  SDART_TEST/data/Source_Shapefiles/Source_orifi...  \n",
       "6  SDART_TEST/data/Source_Shapefiles/Source_outle...  \n",
       "7  SDART_TEST/data/Source_Shapefiles/Source_pumps...  \n",
       "8  SDART_TEST/data/Source_Shapefiles/Source_weirs...  \n",
       "9  SDART_TEST/data/Source_Shapefiles/Source_subca...  "
      ],
      "text/html": [
       "<div>\n",
       "<style scoped>\n",
       "    .dataframe tbody tr th:only-of-type {\n",
       "        vertical-align: middle;\n",
       "    }\n",
       "\n",
       "    .dataframe tbody tr th {\n",
       "        vertical-align: top;\n",
       "    }\n",
       "\n",
       "    .dataframe thead th {\n",
       "        text-align: right;\n",
       "    }\n",
       "</style>\n",
       "<table border=\"1\" class=\"dataframe\">\n",
       "  <thead>\n",
       "    <tr style=\"text-align: right;\">\n",
       "      <th></th>\n",
       "      <th>Layer Key</th>\n",
       "      <th>Updated Expected FC</th>\n",
       "      <th>Updated Status</th>\n",
       "      <th>Source Expected Shapefile</th>\n",
       "      <th>Source Status</th>\n",
       "      <th>Resolved Updated Path</th>\n",
       "      <th>Resolved Source Path</th>\n",
       "    </tr>\n",
       "  </thead>\n",
       "  <tbody>\n",
       "    <tr>\n",
       "      <th>0</th>\n",
       "      <td>junctions</td>\n",
       "      <td>Updated_junctions</td>\n",
       "      <td>Found</td>\n",
       "      <td>Source_junctions.shp</td>\n",
       "      <td>Found</td>\n",
       "      <td>SDART_TEST/SDART_TEST.gdb/Updated_junctions</td>\n",
       "      <td>SDART_TEST/data/Source_Shapefiles/Source_junct...</td>\n",
       "    </tr>\n",
       "    <tr>\n",
       "      <th>1</th>\n",
       "      <td>storages</td>\n",
       "      <td>Updated_storages</td>\n",
       "      <td>Missing</td>\n",
       "      <td>Source_storages.shp</td>\n",
       "      <td>Found</td>\n",
       "      <td></td>\n",
       "      <td>SDART_TEST/data/Source_Shapefiles/Source_stora...</td>\n",
       "    </tr>\n",
       "    <tr>\n",
       "      <th>2</th>\n",
       "      <td>dividers</td>\n",
       "      <td>Updated_dividers</td>\n",
       "      <td>Found</td>\n",
       "      <td>Source_dividers.shp</td>\n",
       "      <td>Found</td>\n",
       "      <td>SDART_TEST/SDART_TEST.gdb/Updated_dividers</td>\n",
       "      <td>SDART_TEST/data/Source_Shapefiles/Source_divid...</td>\n",
       "    </tr>\n",
       "    <tr>\n",
       "      <th>3</th>\n",
       "      <td>outfalls</td>\n",
       "      <td>Updated_outfalls</td>\n",
       "      <td>Found</td>\n",
       "      <td>Source_outfalls.shp</td>\n",
       "      <td>Found</td>\n",
       "      <td>SDART_TEST/SDART_TEST.gdb/Updated_outfalls</td>\n",
       "      <td>SDART_TEST/data/Source_Shapefiles/Source_outfa...</td>\n",
       "    </tr>\n",
       "    <tr>\n",
       "      <th>4</th>\n",
       "      <td>conduits</td>\n",
       "      <td>Updated_conduits</td>\n",
       "      <td>Found</td>\n",
       "      <td>Source_conduits.shp</td>\n",
       "      <td>Found</td>\n",
       "      <td>SDART_TEST/SDART_TEST.gdb/Updated_conduits</td>\n",
       "      <td>SDART_TEST/data/Source_Shapefiles/Source_condu...</td>\n",
       "    </tr>\n",
       "    <tr>\n",
       "      <th>5</th>\n",
       "      <td>orifices</td>\n",
       "      <td>Updated_orifices</td>\n",
       "      <td>Found</td>\n",
       "      <td>Source_orifices.shp</td>\n",
       "      <td>Found</td>\n",
       "      <td>SDART_TEST/SDART_TEST.gdb/Updated_orifices</td>\n",
       "      <td>SDART_TEST/data/Source_Shapefiles/Source_orifi...</td>\n",
       "    </tr>\n",
       "    <tr>\n",
       "      <th>6</th>\n",
       "      <td>outlets</td>\n",
       "      <td>Updated_outlets</td>\n",
       "      <td>Found</td>\n",
       "      <td>Source_outlets.shp</td>\n",
       "      <td>Found</td>\n",
       "      <td>SDART_TEST/SDART_TEST.gdb/Updated_outlets</td>\n",
       "      <td>SDART_TEST/data/Source_Shapefiles/Source_outle...</td>\n",
       "    </tr>\n",
       "    <tr>\n",
       "      <th>7</th>\n",
       "      <td>pumps</td>\n",
       "      <td>Updated_pumps</td>\n",
       "      <td>Found</td>\n",
       "      <td>Source_pumps.shp</td>\n",
       "      <td>Found</td>\n",
       "      <td>SDART_TEST/SDART_TEST.gdb/Updated_pumps</td>\n",
       "      <td>SDART_TEST/data/Source_Shapefiles/Source_pumps...</td>\n",
       "    </tr>\n",
       "    <tr>\n",
       "      <th>8</th>\n",
       "      <td>weirs</td>\n",
       "      <td>Updated_weirs</td>\n",
       "      <td>Found</td>\n",
       "      <td>Source_weirs.shp</td>\n",
       "      <td>Found</td>\n",
       "      <td>SDART_TEST/SDART_TEST.gdb/Updated_weirs</td>\n",
       "      <td>SDART_TEST/data/Source_Shapefiles/Source_weirs...</td>\n",
       "    </tr>\n",
       "    <tr>\n",
       "      <th>9</th>\n",
       "      <td>subcatchments</td>\n",
       "      <td>Updated_subcatchments</td>\n",
       "      <td>Missing</td>\n",
       "      <td>Source_subcatchments.shp</td>\n",
       "      <td>Found</td>\n",
       "      <td></td>\n",
       "      <td>SDART_TEST/data/Source_Shapefiles/Source_subca...</td>\n",
       "    </tr>\n",
       "  </tbody>\n",
       "</table>\n",
       "</div>"
      ]
     },
     "execution_count": 2,
     "metadata": {},
     "output_type": "execute_result"
    }
   ],
   "execution_count": 2
  },
  {
   "metadata": {
    "ExecuteTime": {
     "end_time": "2025-09-08T01:10:13.135651Z",
     "start_time": "2025-09-08T01:10:13.044182Z"
    }
   },
   "cell_type": "code",
   "source": [
    "# 02_backups.ipynb — safe copies (no .lock files copied)\n",
    "s.backup(out_root=Path(\"./SDART_TEST/_backups\"), overwrite=False)\n"
   ],
   "id": "30600fb5945ff66",
   "outputs": [
    {
     "name": "stderr",
     "output_type": "stream",
     "text": [
      "INFO: Backups created → SDART_TEST\\_backups\\GIS_Backup_20250907_201013 , SDART_TEST\\_backups\\Source_Backup\n"
     ]
    },
    {
     "data": {
      "text/plain": [
       "(WindowsPath('SDART_TEST/_backups/GIS_Backup_20250907_201013'),\n",
       " WindowsPath('SDART_TEST/_backups/Source_Backup'))"
      ]
     },
     "execution_count": 4,
     "metadata": {},
     "output_type": "execute_result"
    }
   ],
   "execution_count": 4
  },
  {
   "metadata": {
    "ExecuteTime": {
     "end_time": "2025-09-08T01:10:43.510202Z",
     "start_time": "2025-09-08T01:10:30.634252Z"
    }
   },
   "cell_type": "code",
   "source": [
    "# 03_topology.ipynb — merge & split; snap optional + explicit radius\n",
    "# snap=True/False, radius in feet (ArcGIS converts if your data are meters)\n",
    "s.prepare_topology(snap=True, snap_radius_ft=5.0)\n"
   ],
   "id": "6c2c3ce82e7bfb05",
   "outputs": [
    {
     "name": "stderr",
     "output_type": "stream",
     "text": [
      "INFO: [Updated_conduits] Unsplit → SDART_TEST\\data\\SDART_Scratch.gdb/<Updated_conduits_unsplit>\n",
      "INFO: [Updated_conduits] Snap points → unsplit @ 5.0 ft\n",
      "INFO: [Updated_conduits] Snap points → unsplit @ 5.0 ft\n",
      "INFO: [Updated_conduits] Snap points → unsplit @ 5.0 ft\n",
      "INFO: [Updated_conduits] Split at Updated_junctions → step 1\n",
      "INFO: [Updated_conduits] Split at Updated_dividers → step 2\n",
      "INFO: [Updated_conduits] Split at Updated_outfalls → step 3\n",
      "INFO: [Updated_conduits] Done → SDART_TEST/SDART_TEST.gdb/Updated_conduits\n",
      "INFO: [Updated_orifices] Unsplit → SDART_TEST\\data\\SDART_Scratch.gdb/<Updated_orifices_unsplit>\n",
      "INFO: [Updated_orifices] Snap points → unsplit @ 5.0 ft\n",
      "INFO: [Updated_orifices] Snap points → unsplit @ 5.0 ft\n",
      "INFO: [Updated_orifices] Snap points → unsplit @ 5.0 ft\n",
      "INFO: [Updated_orifices] Split at Updated_junctions → step 1\n",
      "INFO: [Updated_orifices] Split at Updated_dividers → step 2\n",
      "INFO: [Updated_orifices] Split at Updated_outfalls → step 3\n",
      "INFO: [Updated_orifices] Done → SDART_TEST/SDART_TEST.gdb/Updated_orifices\n",
      "INFO: [Updated_outlets] Unsplit → SDART_TEST\\data\\SDART_Scratch.gdb/<Updated_outlets_unsplit>\n",
      "INFO: [Updated_outlets] Snap points → unsplit @ 5.0 ft\n",
      "INFO: [Updated_outlets] Snap points → unsplit @ 5.0 ft\n",
      "INFO: [Updated_outlets] Snap points → unsplit @ 5.0 ft\n",
      "INFO: [Updated_outlets] Split at Updated_junctions → step 1\n",
      "INFO: [Updated_outlets] Split at Updated_dividers → step 2\n",
      "INFO: [Updated_outlets] Split at Updated_outfalls → step 3\n",
      "INFO: [Updated_outlets] Done → SDART_TEST/SDART_TEST.gdb/Updated_outlets\n",
      "INFO: [Updated_pumps] Unsplit → SDART_TEST\\data\\SDART_Scratch.gdb/<Updated_pumps_unsplit>\n",
      "INFO: [Updated_pumps] Snap points → unsplit @ 5.0 ft\n",
      "INFO: [Updated_pumps] Snap points → unsplit @ 5.0 ft\n",
      "INFO: [Updated_pumps] Snap points → unsplit @ 5.0 ft\n",
      "INFO: [Updated_pumps] Split at Updated_junctions → step 1\n",
      "INFO: [Updated_pumps] Split at Updated_dividers → step 2\n",
      "INFO: [Updated_pumps] Split at Updated_outfalls → step 3\n",
      "INFO: [Updated_pumps] Done → SDART_TEST/SDART_TEST.gdb/Updated_pumps\n",
      "INFO: [Updated_weirs] Unsplit → SDART_TEST\\data\\SDART_Scratch.gdb/<Updated_weirs_unsplit>\n",
      "INFO: [Updated_weirs] Snap points → unsplit @ 5.0 ft\n",
      "INFO: [Updated_weirs] Snap points → unsplit @ 5.0 ft\n",
      "INFO: [Updated_weirs] Snap points → unsplit @ 5.0 ft\n",
      "INFO: [Updated_weirs] Split at Updated_junctions → step 1\n",
      "INFO: [Updated_weirs] Split at Updated_dividers → step 2\n",
      "INFO: [Updated_weirs] Split at Updated_outfalls → step 3\n",
      "INFO: [Updated_weirs] Done → SDART_TEST/SDART_TEST.gdb/Updated_weirs\n"
     ]
    }
   ],
   "execution_count": 5
  },
  {
   "metadata": {
    "ExecuteTime": {
     "end_time": "2025-09-08T01:13:13.214194Z",
     "start_time": "2025-09-08T01:13:13.056022Z"
    }
   },
   "cell_type": "code",
   "source": [
    "# 04_shift.ipynb — compute dx,dy from one Source point to one Updated point; shift ALL Source_*.shp\n",
    "dx, dy = s.shift_sources_by_two_oids(\n",
    "    moving_feature_label=\"Feature 0\",      # from Source_junctions.shp\n",
    "    anchor_feature_label=\"Feature 1\",      # from Updated_junctions\n",
    "    moving_points=\"Source_junctions.shp\",\n",
    "    anchor_points_fc=\"Updated_junctions\",\n",
    ")\n",
    "dx, dy\n"
   ],
   "id": "eb6f142122133226",
   "outputs": [
    {
     "name": "stderr",
     "output_type": "stream",
     "text": [
      "INFO: Computed shift dx=702.661, dy=-985.863\n",
      "INFO: Shifting Source_conduits.shp (polyline) by dx=702.661, dy=-985.863\n",
      "INFO: Shifting Source_dividers.shp (point) by dx=702.661, dy=-985.863\n",
      "INFO: Shifting Source_junctions.shp (point) by dx=702.661, dy=-985.863\n",
      "INFO: Shifting Source_orifices.shp (polyline) by dx=702.661, dy=-985.863\n",
      "INFO: Shifting Source_outfalls.shp (point) by dx=702.661, dy=-985.863\n",
      "INFO: Shifting Source_outlets.shp (polyline) by dx=702.661, dy=-985.863\n",
      "INFO: Shifting Source_pumps.shp (polyline) by dx=702.661, dy=-985.863\n",
      "INFO: Shifting Source_storages.shp (point) by dx=702.661, dy=-985.863\n",
      "INFO: Shifting Source_subcatchments.shp (polygon) by dx=702.661, dy=-985.863\n",
      "INFO: Shifting Source_weirs.shp (polyline) by dx=702.661, dy=-985.863\n",
      "INFO: All Source_* layers shifted.\n"
     ]
    },
    {
     "data": {
      "text/plain": [
       "(702.66091170453, -985.8627056134865)"
      ]
     },
     "execution_count": 6,
     "metadata": {},
     "output_type": "execute_result"
    }
   ],
   "execution_count": 6
  },
  {
   "metadata": {
    "ExecuteTime": {
     "start_time": "2025-09-08T01:14:16.377324Z"
    }
   },
   "cell_type": "code",
   "source": [
    "# %%\n",
    "# Universal inputs (tweak as needed)\n",
    "POINTS_LAYERS = (\"junctions\", \"storages\", \"dividers\", \"outfalls\")\n",
    "LINE_LAYERS   = (\"conduits\", \"orifices\", \"outlets\", \"pumps\", \"weirs\")\n",
    "\n",
    "# Points: grid-search radii (ft)\n",
    "POINTS_RADII  = (1, 2, 3, 5)\n",
    "\n",
    "# Lines: used for CENTER/LARGEST; CLOSEST is unlimited inside SDART\n",
    "LINE_RADIUS   = 1\n",
    "\n",
    "# Geometry validation thresholds\n",
    "TOLERANCES = {\n",
    "    \"len\":    10.0,   # allowable length difference in feet\n",
    "    \"angle\":  12.0,   # degrees; 180° reversal treated as 0° in SDART\n",
    "    \"curves\": 10.0,   # curve-count tolerance\n",
    "    \"verts\":  9999.0  # effectively ignore vertex-count differences\n",
    "    # If your SDART supports it, you can also add: \"len_ratio\": 0.30\n",
    "}\n",
    "\n",
    "# Run the package (xlsx_path=None => SDART uses its default path)\n",
    "xlsx_out = s.spatial_join_package_to_excel(\n",
    "    points_layers=POINTS_LAYERS,\n",
    "    line_layers=LINE_LAYERS,\n",
    "    points_radii=POINTS_RADII,\n",
    "    line_radius=LINE_RADIUS,\n",
    "    tolerances=TOLERANCES,\n",
    "    xlsx_path=None,\n",
    "    apply_updates=True\n",
    ")\n",
    "\n",
    "print(f\"Workbook written → {xlsx_out}\")\n"
   ],
   "id": "c9a923a93e30542c",
   "outputs": [
    {
     "name": "stderr",
     "output_type": "stream",
     "text": [
      "INFO: [junctions] Points SpatialJoin applied in-place at 1 ft → A:/OneDrive - LEO A DALY/Pycharm Projects/GIS-to-SWMM-conversion/SDART_TEST/SDART_TEST.gdb/Updated_junctions\n",
      "INFO: Skip points layer storages because inputs are missing\n",
      "INFO: [dividers] Points SpatialJoin applied in-place at 1 ft → A:/OneDrive - LEO A DALY/Pycharm Projects/GIS-to-SWMM-conversion/SDART_TEST/SDART_TEST.gdb/Updated_dividers\n",
      "INFO: [outfalls] Points SpatialJoin applied in-place at 1 ft → A:/OneDrive - LEO A DALY/Pycharm Projects/GIS-to-SWMM-conversion/SDART_TEST/SDART_TEST.gdb/Updated_outfalls\n",
      "INFO: [conduits] De-duplicated 4 features mapped to the same SWMM element; will clear them to NULL.\n",
      "INFO: [conduits] Line attributes applied in-place from sweep winners → A:/OneDrive - LEO A DALY/Pycharm Projects/GIS-to-SWMM-conversion/SDART_TEST/SDART_TEST.gdb/Updated_conduits (updated 5 features; cleared 0 duplicates)\n",
      "INFO: [orifices] Line attributes applied in-place from sweep winners → A:/OneDrive - LEO A DALY/Pycharm Projects/GIS-to-SWMM-conversion/SDART_TEST/SDART_TEST.gdb/Updated_orifices (updated 1 features; cleared 0 duplicates)\n",
      "INFO: [outlets] Line attributes applied in-place from sweep winners → A:/OneDrive - LEO A DALY/Pycharm Projects/GIS-to-SWMM-conversion/SDART_TEST/SDART_TEST.gdb/Updated_outlets (updated 1 features; cleared 0 duplicates)\n"
     ]
    }
   ],
   "execution_count": null
  },
  {
   "metadata": {
    "ExecuteTime": {
     "end_time": "2025-09-14T20:04:43.900342Z",
     "start_time": "2025-09-14T20:04:43.559330Z"
    }
   },
   "cell_type": "code",
   "source": [
    "# Fill nulls for points + conduits with stable placeholders\n",
    "s.fill_null_names_unknown(include_points=True, include_conduits=True)"
   ],
   "id": "9e6215f0677cc3e7",
   "outputs": [
    {
     "name": "stderr",
     "output_type": "stream",
     "text": [
      "INFO: [junctions] Filled 5 NULL Names → A:/OneDrive - LEO A DALY/Pycharm Projects/GIS-to-SWMM-conversion/SDART_TEST/SDART_TEST.gdb/Updated_junctions\n",
      "INFO: [dividers] Filled 0 NULL Names → A:/OneDrive - LEO A DALY/Pycharm Projects/GIS-to-SWMM-conversion/SDART_TEST/SDART_TEST.gdb/Updated_dividers\n",
      "INFO: [outfalls] Filled 0 NULL Names → A:/OneDrive - LEO A DALY/Pycharm Projects/GIS-to-SWMM-conversion/SDART_TEST/SDART_TEST.gdb/Updated_outfalls\n",
      "INFO: [conduits] Filled 4 NULL Names → A:/OneDrive - LEO A DALY/Pycharm Projects/GIS-to-SWMM-conversion/SDART_TEST/SDART_TEST.gdb/Updated_conduits\n"
     ]
    }
   ],
   "execution_count": 3
  },
  {
   "metadata": {
    "ExecuteTime": {
     "end_time": "2025-09-14T20:06:06.716344Z",
     "start_time": "2025-09-14T20:05:54.344844Z"
    }
   },
   "cell_type": "code",
   "source": [
    "# 2) Assign FromNode/ToNode using 2 ft search radius (tweak if needed).\n",
    "s.assign_from_to_nodes(search_radius_ft=2.0)"
   ],
   "id": "3c226abf5034cd83",
   "outputs": [
    {
     "name": "stderr",
     "output_type": "stream",
     "text": [
      "INFO: [junctions] Filled 0 NULL Names → A:/OneDrive - LEO A DALY/Pycharm Projects/GIS-to-SWMM-conversion/SDART_TEST/SDART_TEST.gdb/Updated_junctions\n",
      "INFO: [dividers] Filled 0 NULL Names → A:/OneDrive - LEO A DALY/Pycharm Projects/GIS-to-SWMM-conversion/SDART_TEST/SDART_TEST.gdb/Updated_dividers\n",
      "INFO: [outfalls] Filled 0 NULL Names → A:/OneDrive - LEO A DALY/Pycharm Projects/GIS-to-SWMM-conversion/SDART_TEST/SDART_TEST.gdb/Updated_outfalls\n",
      "INFO: [conduits] From/To assigned within 2.0 Feet → A:/OneDrive - LEO A DALY/Pycharm Projects/GIS-to-SWMM-conversion/SDART_TEST/SDART_TEST.gdb/Updated_conduits (updated 6 features)\n",
      "INFO: [orifices] From/To assigned within 2.0 Feet → A:/OneDrive - LEO A DALY/Pycharm Projects/GIS-to-SWMM-conversion/SDART_TEST/SDART_TEST.gdb/Updated_orifices (updated 1 features)\n",
      "INFO: [outlets] From/To assigned within 2.0 Feet → A:/OneDrive - LEO A DALY/Pycharm Projects/GIS-to-SWMM-conversion/SDART_TEST/SDART_TEST.gdb/Updated_outlets (updated 0 features)\n",
      "INFO: [pumps] From/To assigned within 2.0 Feet → A:/OneDrive - LEO A DALY/Pycharm Projects/GIS-to-SWMM-conversion/SDART_TEST/SDART_TEST.gdb/Updated_pumps (updated 1 features)\n",
      "INFO: [weirs] From/To assigned within 2.0 Feet → A:/OneDrive - LEO A DALY/Pycharm Projects/GIS-to-SWMM-conversion/SDART_TEST/SDART_TEST.gdb/Updated_weirs (updated 1 features)\n"
     ]
    }
   ],
   "execution_count": 4
  },
  {
   "metadata": {},
   "cell_type": "code",
   "source": "",
   "id": "bef919716d53f5a4",
   "outputs": [],
   "execution_count": null
  }
 ],
 "metadata": {
  "kernelspec": {
   "display_name": "Python 3",
   "language": "python",
   "name": "python3"
  },
  "language_info": {
   "codemirror_mode": {
    "name": "ipython",
    "version": 2
   },
   "file_extension": ".py",
   "mimetype": "text/x-python",
   "name": "python",
   "nbconvert_exporter": "python",
   "pygments_lexer": "ipython2",
   "version": "2.7.6"
  }
 },
 "nbformat": 4,
 "nbformat_minor": 5
}
